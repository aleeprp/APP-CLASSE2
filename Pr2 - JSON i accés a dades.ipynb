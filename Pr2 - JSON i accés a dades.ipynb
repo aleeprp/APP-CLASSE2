{
 "cells": [
  {
   "cell_type": "markdown",
   "metadata": {},
   "source": [
    "# FITXERS JSON I ACCÉS A DADES"
   ]
  },
  {
   "cell_type": "code",
   "execution_count": null,
   "metadata": {},
   "outputs": [],
   "source": [
    "import json\n",
    "from urllib.request import urlopen"
   ]
  },
  {
   "cell_type": "markdown",
   "metadata": {},
   "source": [
    "## INTRODUCCIÓ A JSON"
   ]
  },
  {
   "cell_type": "markdown",
   "metadata": {},
   "source": [
    "El mòdul [json](https://docs.python.org/3.11/library/json.html) ens permet gestionar fitxers amb format [JSON (JavaScript Object Notation)](https://www.json.org/json-es.html).\n",
    "\n",
    "Els fitxers JSON son molt utilitzats per recuperar dades de diferents websites mitjançant REST APIs. Per exemple utilitzant les APIs de Twitter, Youtube, o Google maps.\n",
    "\n",
    "Exemple de fitxer JSON que retorna **Google Maps**:\n",
    "```json\n",
    "{\n",
    "  \"markers\": [\n",
    "    {\n",
    "      \"name\": \"Rixos The Palm Dubai\",\n",
    "      \"position\": [25.1212, 55.1535],\n",
    "    },\n",
    "    {\n",
    "      \"name\": \"Shangri-La Hotel\",\n",
    "      \"location\": [25.2084, 55.2719]\n",
    "    },\n",
    "    {\n",
    "      \"name\": \"Grand Hyatt\",\n",
    "      \"location\": [25.2285, 55.3273]\n",
    "    }\n",
    "  ]\n",
    "}\n",
    "```\n",
    "\n",
    "La correspondència entre JSON i Python la podem resumir en la següent taula:\n",
    "<table>\n",
    "\t<tr><td>JSON</td><td>Python</td></tr>\n",
    "\t<tr><td>object</td><td>dict</td></tr>\n",
    "\t<tr><td>array</td><td>list</td></tr>\n",
    "\t<tr><td>string</td><td>str</td></tr>\n",
    "\t<tr><td>number (int)</td><td>int</td></tr>\n",
    "\t<tr><td>number (real)</td><td>float</td></tr>\n",
    "\t<tr><td>true</td><td>True</td></tr>\n",
    "\t<tr><td>false</td><td>False</td></tr>\n",
    "\t<tr><td>null</td><td>None</td></tr>\n",
    "</table>"
   ]
  },
  {
   "cell_type": "markdown",
   "metadata": {},
   "source": [
    "### Llegir fitxers json"
   ]
  },
  {
   "cell_type": "markdown",
   "metadata": {},
   "source": [
    "Des d'una cadena de caràcters:"
   ]
  },
  {
   "cell_type": "code",
   "execution_count": null,
   "metadata": {},
   "outputs": [],
   "source": [
    "datos_json='{\"nombre\":\"carlos\",\"edad\":23}'\n",
    "datos = json.loads(datos_json)\n",
    "print(type(datos))\n",
    "\n",
    "print(datos)"
   ]
  },
  {
   "cell_type": "markdown",
   "metadata": {},
   "source": [
    "Des de un fitxer:"
   ]
  },
  {
   "cell_type": "code",
   "execution_count": null,
   "metadata": {},
   "outputs": [],
   "source": [
    "with open(\"exemple1.json\") as fitxer:\n",
    "    datos=json.load(fitxer)\n",
    "\n",
    "print(type(datos))\n",
    "print(datos)"
   ]
  },
  {
   "cell_type": "markdown",
   "metadata": {},
   "source": [
    "Fixeu-vos que quan llegim d'una cadena de caràcters es json.loads i quan llegim d'un fitxer json.load"
   ]
  },
  {
   "cell_type": "markdown",
   "metadata": {},
   "source": [
    "### Escriure fitxers json"
   ]
  },
  {
   "cell_type": "code",
   "execution_count": null,
   "metadata": {},
   "outputs": [],
   "source": [
    "datos = {\n",
    "    'isCat': True, \n",
    "    'miceCaught': 0, \n",
    "    'name': 'Zophie',\n",
    "    'felineIQ': None\n",
    "    }\n",
    "fichero = open(\"exemple2.json\",\"w\")\n",
    "json.dump(datos,fichero)\n",
    "fichero.close()"
   ]
  },
  {
   "cell_type": "markdown",
   "metadata": {},
   "source": [
    "Fixeu-vos que igual que quan llegim, quan escrivim en un fitxer és json.dump i quan ho fem a cadena de caràcters es json.dumps"
   ]
  },
  {
   "cell_type": "markdown",
   "metadata": {},
   "source": [
    "## ACCÉS A DADES JSON D'INTERNET"
   ]
  },
  {
   "cell_type": "markdown",
   "metadata": {},
   "source": [
    "JSON s’utilitza habitualment per intercanviar dades entre un servidor i una aplicació web. Per exemple, a https://github.com/openfootball/football.json podeu trobar la informació històrica sobre les lligues de futbol de diferents paisos. S'hi pot accedir en format API. A continuació farem un exemple de consulta de tots els equips de la Premier League 2014-15."
   ]
  },
  {
   "cell_type": "markdown",
   "metadata": {},
   "source": [
    "Primer de tot accedim a la API. Si mirem el github on es guarda tot, està organitzat en carpetes per anys. Per tant hem d'accedir a la carpeta 2014-15. Després carreguem el json corresponent."
   ]
  },
  {
   "cell_type": "code",
   "execution_count": null,
   "metadata": {},
   "outputs": [],
   "source": [
    "response = urlopen('https://raw.githubusercontent.com/openfootball/football.json/master/2014-15/en.1.clubs.json')\n",
    "\n",
    "premier = json.load(response)"
   ]
  },
  {
   "cell_type": "markdown",
   "metadata": {},
   "source": [
    "Ara ja tenim un diccionari amb tota la informació de la API, només l'hem de recórrer:"
   ]
  },
  {
   "cell_type": "code",
   "execution_count": null,
   "metadata": {},
   "outputs": [],
   "source": [
    "for club in premier['clubs']:\n",
    "    print(club['name'])"
   ]
  },
  {
   "cell_type": "markdown",
   "metadata": {},
   "source": [
    "## Pràctica 2"
   ]
  },
  {
   "cell_type": "markdown",
   "metadata": {},
   "source": [
    "Feu un programa que faci consultes a la API de openfootball. Per començar, feu que apareixi per pantalla els anys i lligues disponibles i les diferents operacions de consulta que pot realitzar.\n",
    "\n",
    "Feu que el programa faci les següents operacions:\n",
    "\n",
    "- **1p** - Mostrar els equips d'una lliga i any en concret (demanat per pantalla a l'usuari).\n",
    "- **1p** - Mostrar els resultats dels partits d'una lliga i data en concret (demanat per pantalla a l'susuari).\n",
    "- **5p** - Consultar la classificació final d'una lliga i any en concret (demanat per pantalla a l'usuari). Recordo que un partit guanyat són 3 punts i un empat és 1 punt.\n",
    "- **2p** - Mostrar una estadística de tots els quips. En concret: gols encaixats, gols marcats, diferència de gols, partits guanyats, empatats i perduts.\n",
    "- **1p** - Mostrar els 5 millors equips visitants i locals."
   ]
  }
 ],
 "metadata": {
  "kernelspec": {
   "display_name": "Python 3",
   "language": "python",
   "name": "python3"
  },
  "language_info": {
   "codemirror_mode": {
    "name": "ipython",
    "version": 3
   },
   "file_extension": ".py",
   "mimetype": "text/x-python",
   "name": "python",
   "nbconvert_exporter": "python",
   "pygments_lexer": "ipython3",
   "version": "3.12.0"
  }
 },
 "nbformat": 4,
 "nbformat_minor": 2
}
